{
  "nbformat": 4,
  "nbformat_minor": 0,
  "metadata": {
    "colab": {
      "provenance": [],
      "gpuType": "V28",
      "include_colab_link": true
    },
    "kernelspec": {
      "name": "python3",
      "display_name": "Python 3"
    },
    "language_info": {
      "name": "python"
    },
    "accelerator": "TPU"
  },
  "cells": [
    {
      "cell_type": "markdown",
      "metadata": {
        "id": "view-in-github",
        "colab_type": "text"
      },
      "source": [
        "<a href=\"https://colab.research.google.com/github/Yoowza/PRAKTIKUM_PBO/blob/main/enkapsulasi1.ipynb\" target=\"_parent\"><img src=\"https://colab.research.google.com/assets/colab-badge.svg\" alt=\"Open In Colab\"/></a>"
      ]
    },
    {
      "cell_type": "code",
      "execution_count": null,
      "metadata": {
        "colab": {
          "base_uri": "https://localhost:8080/"
        },
        "id": "dAhSM8TBuwSm",
        "outputId": "009eb586-5721-482b-83ee-d2d7aaa1b2fc"
      },
      "outputs": [
        {
          "output_type": "stream",
          "name": "stdout",
          "text": [
            "800.0\n",
            "Gaji final = 8000\n"
          ]
        }
      ],
      "source": [
        "# enkapsulasi dengan public access modifier\n",
        "class pegawai:\n",
        "    def __init__(self, nama, salary):\n",
        "        self.nama=nama\n",
        "        self.gaji=salary\n",
        "        self.gaji_final= self.gaji - (0.2 * self.gaji)\n",
        "\n",
        "obj1 = pegawai(\"ramlan\", 1000)\n",
        "print(obj1.gaji_final)\n",
        "\n",
        "obj1.gaji_final = 8000\n",
        "print(f\"Gaji final = {obj1.gaji_final}\")"
      ]
    }
  ]
}